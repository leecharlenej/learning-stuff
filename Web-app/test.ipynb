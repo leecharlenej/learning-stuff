{
 "cells": [
  {
   "cell_type": "code",
   "execution_count": 2,
   "metadata": {},
   "outputs": [
    {
     "name": "stdout",
     "output_type": "stream",
     "text": [
      "\n",
      "    if (this.angular){\n",
      "      filterTags.push(Tag.ANGULAR);\n",
      "    }\n",
      "    if (this.nodejs){\n",
      "      filterTags.push(Tag.NODEJS);\n",
      "    }\n",
      "    if (this.aspnet){\n",
      "      filterTags.push(Tag.ASPNET);\n",
      "    }\n",
      "    if (this.react){\n",
      "      filterTags.push(Tag.REACT);\n",
      "    }\n"
     ]
    }
   ],
   "source": [
    "languages_list = ['typescript', 'javascript', 'python', 'csharp', 'java']\n",
    "frameworks_list = ['angular', 'nodejs', 'aspnet', 'react']\n",
    "\n",
    "code = ''\n",
    "\n",
    "for i in frameworks_list:\n",
    "    code += f'''\n",
    "    if (this.{i}){{\n",
    "      filterTags.push(Tag.{i.upper()});\n",
    "    }}'''\n",
    "\n",
    "print(code)"
   ]
  },
  {
   "cell_type": "code",
   "execution_count": 6,
   "metadata": {},
   "outputs": [
    {
     "name": "stdout",
     "output_type": "stream",
     "text": [
      "\n",
      "                        <div class=\"form-group\">\n",
      "                            <div class=\"form-check\">\n",
      "                                <input \n",
      "                                type=\"checkbox\"\n",
      "                                class=\"form-check-input position-static mb-2\"\n",
      "                                [(ngModel)]=\"angular\"\n",
      "                                (change)=\"filter()\"\n",
      "                                name=\"Angular\"\n",
      "                                >\n",
      "                                <label class=\"form-check-label small\">Angular</label>\n",
      "                            </div>\n",
      "                        </div>\n",
      "                        <div class=\"form-group\">\n",
      "                            <div class=\"form-check\">\n",
      "                                <input \n",
      "                                type=\"checkbox\"\n",
      "                                class=\"form-check-input position-static mb-2\"\n",
      "                                [(ngModel)]=\"nodejs\"\n",
      "                                (change)=\"filter()\"\n",
      "                                name=\"Nodejs\"\n",
      "                                >\n",
      "                                <label class=\"form-check-label small\">Nodejs</label>\n",
      "                            </div>\n",
      "                        </div>\n",
      "                        <div class=\"form-group\">\n",
      "                            <div class=\"form-check\">\n",
      "                                <input \n",
      "                                type=\"checkbox\"\n",
      "                                class=\"form-check-input position-static mb-2\"\n",
      "                                [(ngModel)]=\"aspnet\"\n",
      "                                (change)=\"filter()\"\n",
      "                                name=\"Aspnet\"\n",
      "                                >\n",
      "                                <label class=\"form-check-label small\">Aspnet</label>\n",
      "                            </div>\n",
      "                        </div>\n",
      "                        <div class=\"form-group\">\n",
      "                            <div class=\"form-check\">\n",
      "                                <input \n",
      "                                type=\"checkbox\"\n",
      "                                class=\"form-check-input position-static mb-2\"\n",
      "                                [(ngModel)]=\"react\"\n",
      "                                (change)=\"filter()\"\n",
      "                                name=\"React\"\n",
      "                                >\n",
      "                                <label class=\"form-check-label small\">React</label>\n",
      "                            </div>\n",
      "                        </div>\n"
     ]
    }
   ],
   "source": [
    "html_code = ''\n",
    "\n",
    "\n",
    "for i in frameworks_list:\n",
    "    html_code += f'''\n",
    "                        <div class=\"form-group\">\n",
    "                            <div class=\"form-check\">\n",
    "                                <input \n",
    "                                type=\"checkbox\"\n",
    "                                class=\"form-check-input position-static mb-2\"\n",
    "                                [(ngModel)]=\"{i}\"\n",
    "                                (change)=\"filter()\"\n",
    "                                name=\"{i.title()}\"\n",
    "                                >\n",
    "                                <label class=\"form-check-label small\">{i.title()}</label>\n",
    "                            </div>\n",
    "                        </div>'''\n",
    "\n",
    "print(html_code)"
   ]
  },
  {
   "cell_type": "code",
   "execution_count": 9,
   "metadata": {},
   "outputs": [
    {
     "name": "stdout",
     "output_type": "stream",
     "text": [
      "\n",
      "this.typescript = false;\n",
      "this.javascript = false;\n",
      "this.python = false;\n",
      "this.csharp = false;\n",
      "this.java = false;\n",
      "this.angular = false;\n",
      "this.nodejs = false;\n",
      "this.aspnet = false;\n",
      "this.react = false;\n"
     ]
    }
   ],
   "source": [
    "reset_code = ''\n",
    "\n",
    "\n",
    "for i in languages_list+frameworks_list:\n",
    "    reset_code += f'''\n",
    "this.{i} = false;'''\n",
    "\n",
    "print(reset_code)"
   ]
  },
  {
   "cell_type": "code",
   "execution_count": 4,
   "metadata": {},
   "outputs": [
    {
     "name": "stdout",
     "output_type": "stream",
     "text": [
      "this.typescript || this.javascript || this.python || this.csharp || this.java || this.angular || this.nodejs || this.aspnet || this.react || \n"
     ]
    }
   ],
   "source": [
    "filter_code = ''\n",
    "\n",
    "\n",
    "for i in languages_list+frameworks_list:\n",
    "    filter_code += f'''this.{i} || '''\n",
    "\n",
    "print(filter_code)"
   ]
  },
  {
   "cell_type": "code",
   "execution_count": null,
   "metadata": {},
   "outputs": [],
   "source": []
  }
 ],
 "metadata": {
  "kernelspec": {
   "display_name": "NUS-Capstone",
   "language": "python",
   "name": "python3"
  },
  "language_info": {
   "codemirror_mode": {
    "name": "ipython",
    "version": 3
   },
   "file_extension": ".py",
   "mimetype": "text/x-python",
   "name": "python",
   "nbconvert_exporter": "python",
   "pygments_lexer": "ipython3",
   "version": "3.11.9"
  }
 },
 "nbformat": 4,
 "nbformat_minor": 2
}
